{
 "cells": [
  {
   "cell_type": "markdown",
   "id": "4585aee9",
   "metadata": {
    "_cell_guid": "b1076dfc-b9ad-4769-8c92-a6c4dae69d19",
    "_uuid": "8f2839f25d086af736a60e9eeb907d3b93b6e0e5",
    "papermill": {
     "duration": 0.005103,
     "end_time": "2024-09-16T13:39:07.171169",
     "exception": false,
     "start_time": "2024-09-16T13:39:07.166066",
     "status": "completed"
    },
    "tags": []
   },
   "source": [
    "# Mobile Games A/B Testing Analysis\n",
    "\n",
    "## Project Overview\n",
    "\n",
    "The Mobile Games A/B Testing project focuses on analyzing the results of an A/B test conducted on a mobile game. In this test, users are split into two groups:\n",
    "\n",
    "- Group A (Control): These users experience the game in its original form.\n",
    "- Group B (Test): These users experience a variation of the game (with a modified feature or content).\n",
    " \n",
    " ## Key Objectives:\n",
    "- Exploratory Data Analysis (EDA): Understand the structure of the dataset, including group distributions and conversion rates.\n",
    "- Calculate Conversion Rates: Compare the conversion rates of users in Group A (control) and Group B (test) to see if there is a difference.\n",
    "- Statistical Significance Testing: Use a statistical test (like the t-test) to determine whether the difference in conversion rates between the two groups is statistically significant.\n",
    "- Business Insights: Interpret the results and provide insights or recommendations based on whether the variation in Group B leads to a better conversion rate."
   ]
  },
  {
   "cell_type": "code",
   "execution_count": 1,
   "id": "bb726a38",
   "metadata": {
    "execution": {
     "iopub.execute_input": "2024-09-16T13:39:07.182366Z",
     "iopub.status.busy": "2024-09-16T13:39:07.181354Z",
     "iopub.status.idle": "2024-09-16T13:39:09.202989Z",
     "shell.execute_reply": "2024-09-16T13:39:09.201991Z"
    },
    "papermill": {
     "duration": 2.029517,
     "end_time": "2024-09-16T13:39:09.205415",
     "exception": false,
     "start_time": "2024-09-16T13:39:07.175898",
     "status": "completed"
    },
    "tags": []
   },
   "outputs": [
    {
     "data": {
      "text/html": [
       "<div>\n",
       "<style scoped>\n",
       "    .dataframe tbody tr th:only-of-type {\n",
       "        vertical-align: middle;\n",
       "    }\n",
       "\n",
       "    .dataframe tbody tr th {\n",
       "        vertical-align: top;\n",
       "    }\n",
       "\n",
       "    .dataframe thead th {\n",
       "        text-align: right;\n",
       "    }\n",
       "</style>\n",
       "<table border=\"1\" class=\"dataframe\">\n",
       "  <thead>\n",
       "    <tr style=\"text-align: right;\">\n",
       "      <th></th>\n",
       "      <th>userid</th>\n",
       "      <th>version</th>\n",
       "      <th>sum_gamerounds</th>\n",
       "      <th>retention_1</th>\n",
       "      <th>retention_7</th>\n",
       "    </tr>\n",
       "  </thead>\n",
       "  <tbody>\n",
       "    <tr>\n",
       "      <th>0</th>\n",
       "      <td>116</td>\n",
       "      <td>gate_30</td>\n",
       "      <td>3</td>\n",
       "      <td>False</td>\n",
       "      <td>False</td>\n",
       "    </tr>\n",
       "    <tr>\n",
       "      <th>1</th>\n",
       "      <td>337</td>\n",
       "      <td>gate_30</td>\n",
       "      <td>38</td>\n",
       "      <td>True</td>\n",
       "      <td>False</td>\n",
       "    </tr>\n",
       "    <tr>\n",
       "      <th>2</th>\n",
       "      <td>377</td>\n",
       "      <td>gate_40</td>\n",
       "      <td>165</td>\n",
       "      <td>True</td>\n",
       "      <td>False</td>\n",
       "    </tr>\n",
       "    <tr>\n",
       "      <th>3</th>\n",
       "      <td>483</td>\n",
       "      <td>gate_40</td>\n",
       "      <td>1</td>\n",
       "      <td>False</td>\n",
       "      <td>False</td>\n",
       "    </tr>\n",
       "    <tr>\n",
       "      <th>4</th>\n",
       "      <td>488</td>\n",
       "      <td>gate_40</td>\n",
       "      <td>179</td>\n",
       "      <td>True</td>\n",
       "      <td>True</td>\n",
       "    </tr>\n",
       "  </tbody>\n",
       "</table>\n",
       "</div>"
      ],
      "text/plain": [
       "   userid  version  sum_gamerounds  retention_1  retention_7\n",
       "0     116  gate_30               3        False        False\n",
       "1     337  gate_30              38         True        False\n",
       "2     377  gate_40             165         True        False\n",
       "3     483  gate_40               1        False        False\n",
       "4     488  gate_40             179         True         True"
      ]
     },
     "execution_count": 1,
     "metadata": {},
     "output_type": "execute_result"
    }
   ],
   "source": [
    "# Let's import necessary libraries\n",
    "import pandas as pd\n",
    "import matplotlib.pyplot as plt\n",
    "import seaborn as sns\n",
    "\n",
    "# Let's load the dataset \n",
    "df = pd.read_csv('../input/mobile-games-ab-testing/cookie_cats.csv')\n",
    "\n",
    "# Let's display the first few rows of the dataset\n",
    "df.head()"
   ]
  },
  {
   "cell_type": "code",
   "execution_count": 2,
   "id": "89f1a0fd",
   "metadata": {
    "execution": {
     "iopub.execute_input": "2024-09-16T13:39:09.214147Z",
     "iopub.status.busy": "2024-09-16T13:39:09.213159Z",
     "iopub.status.idle": "2024-09-16T13:39:09.268129Z",
     "shell.execute_reply": "2024-09-16T13:39:09.267030Z"
    },
    "papermill": {
     "duration": 0.061962,
     "end_time": "2024-09-16T13:39:09.270731",
     "exception": false,
     "start_time": "2024-09-16T13:39:09.208769",
     "status": "completed"
    },
    "tags": []
   },
   "outputs": [
    {
     "name": "stdout",
     "output_type": "stream",
     "text": [
      "<class 'pandas.core.frame.DataFrame'>\n",
      "RangeIndex: 90189 entries, 0 to 90188\n",
      "Data columns (total 5 columns):\n",
      " #   Column          Non-Null Count  Dtype \n",
      "---  ------          --------------  ----- \n",
      " 0   userid          90189 non-null  int64 \n",
      " 1   version         90189 non-null  object\n",
      " 2   sum_gamerounds  90189 non-null  int64 \n",
      " 3   retention_1     90189 non-null  bool  \n",
      " 4   retention_7     90189 non-null  bool  \n",
      "dtypes: bool(2), int64(2), object(1)\n",
      "memory usage: 2.2+ MB\n"
     ]
    },
    {
     "data": {
      "text/html": [
       "<div>\n",
       "<style scoped>\n",
       "    .dataframe tbody tr th:only-of-type {\n",
       "        vertical-align: middle;\n",
       "    }\n",
       "\n",
       "    .dataframe tbody tr th {\n",
       "        vertical-align: top;\n",
       "    }\n",
       "\n",
       "    .dataframe thead th {\n",
       "        text-align: right;\n",
       "    }\n",
       "</style>\n",
       "<table border=\"1\" class=\"dataframe\">\n",
       "  <thead>\n",
       "    <tr style=\"text-align: right;\">\n",
       "      <th></th>\n",
       "      <th>userid</th>\n",
       "      <th>sum_gamerounds</th>\n",
       "    </tr>\n",
       "  </thead>\n",
       "  <tbody>\n",
       "    <tr>\n",
       "      <th>count</th>\n",
       "      <td>9.018900e+04</td>\n",
       "      <td>90189.000000</td>\n",
       "    </tr>\n",
       "    <tr>\n",
       "      <th>mean</th>\n",
       "      <td>4.998412e+06</td>\n",
       "      <td>51.872457</td>\n",
       "    </tr>\n",
       "    <tr>\n",
       "      <th>std</th>\n",
       "      <td>2.883286e+06</td>\n",
       "      <td>195.050858</td>\n",
       "    </tr>\n",
       "    <tr>\n",
       "      <th>min</th>\n",
       "      <td>1.160000e+02</td>\n",
       "      <td>0.000000</td>\n",
       "    </tr>\n",
       "    <tr>\n",
       "      <th>25%</th>\n",
       "      <td>2.512230e+06</td>\n",
       "      <td>5.000000</td>\n",
       "    </tr>\n",
       "    <tr>\n",
       "      <th>50%</th>\n",
       "      <td>4.995815e+06</td>\n",
       "      <td>16.000000</td>\n",
       "    </tr>\n",
       "    <tr>\n",
       "      <th>75%</th>\n",
       "      <td>7.496452e+06</td>\n",
       "      <td>51.000000</td>\n",
       "    </tr>\n",
       "    <tr>\n",
       "      <th>max</th>\n",
       "      <td>9.999861e+06</td>\n",
       "      <td>49854.000000</td>\n",
       "    </tr>\n",
       "  </tbody>\n",
       "</table>\n",
       "</div>"
      ],
      "text/plain": [
       "             userid  sum_gamerounds\n",
       "count  9.018900e+04    90189.000000\n",
       "mean   4.998412e+06       51.872457\n",
       "std    2.883286e+06      195.050858\n",
       "min    1.160000e+02        0.000000\n",
       "25%    2.512230e+06        5.000000\n",
       "50%    4.995815e+06       16.000000\n",
       "75%    7.496452e+06       51.000000\n",
       "max    9.999861e+06    49854.000000"
      ]
     },
     "execution_count": 2,
     "metadata": {},
     "output_type": "execute_result"
    }
   ],
   "source": [
    "# Let's check the structure and data types\n",
    "df.info()\n",
    "\n",
    "# Let's check for missing values\n",
    "df.isnull().sum()\n",
    "\n",
    "# Let's summary statistics\n",
    "df.describe()"
   ]
  },
  {
   "cell_type": "code",
   "execution_count": 3,
   "id": "867b7a03",
   "metadata": {
    "execution": {
     "iopub.execute_input": "2024-09-16T13:39:09.279260Z",
     "iopub.status.busy": "2024-09-16T13:39:09.278842Z",
     "iopub.status.idle": "2024-09-16T13:39:09.569381Z",
     "shell.execute_reply": "2024-09-16T13:39:09.568353Z"
    },
    "papermill": {
     "duration": 0.297493,
     "end_time": "2024-09-16T13:39:09.571785",
     "exception": false,
     "start_time": "2024-09-16T13:39:09.274292",
     "status": "completed"
    },
    "tags": []
   },
   "outputs": [
    {
     "data": {
      "image/png": "[encoded data removed]",
      "text/plain": [
       "<Figure size 600x400 with 1 Axes>"
      ]
     },
     "metadata": {},
     "output_type": "display_data"
    }
   ],
   "source": [
    "# Let's count the number of users in each group\n",
    "freq_by_ver = df['version'].value_counts(ascending=True)\n",
    "\n",
    "perc_values = round((freq_by_ver / freq_by_ver.sum()) * 100, 2).values\n",
    "labels = [f'{item[0]} ({item[1]}%)' for item in zip(freq_by_ver.values, perc_values)]\n",
    "\n",
    "plt.figure(figsize=(6,4))\n",
    "tbl = sns.countplot(x='version', data=df)\n",
    "plt.title('Distribution of Users by Group (A/B)')\n",
    "plt.xlabel('Group')\n",
    "plt.ylabel('Number of Users')\n",
    "plt.bar_label(container = tbl.containers[0], labels = labels)\n",
    "plt.show()"
   ]
  },
  {
   "cell_type": "code",
   "execution_count": 4,
   "id": "12e6c06d",
   "metadata": {
    "execution": {
     "iopub.execute_input": "2024-09-16T13:39:09.581465Z",
     "iopub.status.busy": "2024-09-16T13:39:09.580783Z",
     "iopub.status.idle": "2024-09-16T13:39:09.606797Z",
     "shell.execute_reply": "2024-09-16T13:39:09.605755Z"
    },
    "papermill": {
     "duration": 0.033487,
     "end_time": "2024-09-16T13:39:09.609198",
     "exception": false,
     "start_time": "2024-09-16T13:39:09.575711",
     "status": "completed"
    },
    "tags": []
   },
   "outputs": [
    {
     "name": "stdout",
     "output_type": "stream",
     "text": [
      "Retention Rate 1:\n",
      "version\n",
      "gate_30    0.448188\n",
      "gate_40    0.442283\n",
      "Name: retention_1, dtype: float64\n",
      "Retention Rate 7:\n",
      "version\n",
      "gate_30    0.190201\n",
      "gate_40    0.182000\n",
      "Name: retention_7, dtype: float64\n"
     ]
    }
   ],
   "source": [
    "# Let's calculate the conversion rate for each group\n",
    "retention_1_rate = df.groupby('version')['retention_1'].mean()\n",
    "\n",
    "retention_7_rate = df.groupby('version')['retention_7'].mean()\n",
    "\n",
    "# Let's print retention rates\n",
    "print('Retention Rate 1:')\n",
    "print(retention_1_rate)\n",
    "print('Retention Rate 7:')\n",
    "print(retention_7_rate)"
   ]
  },
  {
   "cell_type": "code",
   "execution_count": 5,
   "id": "5a3cb35b",
   "metadata": {
    "execution": {
     "iopub.execute_input": "2024-09-16T13:39:09.619220Z",
     "iopub.status.busy": "2024-09-16T13:39:09.618338Z",
     "iopub.status.idle": "2024-09-16T13:39:10.045691Z",
     "shell.execute_reply": "2024-09-16T13:39:10.044696Z"
    },
    "papermill": {
     "duration": 0.434616,
     "end_time": "2024-09-16T13:39:10.047835",
     "exception": false,
     "start_time": "2024-09-16T13:39:09.613219",
     "status": "completed"
    },
    "tags": []
   },
   "outputs": [
    {
     "data": {
      "image/png": "[encoded data removed]",
      "text/plain": [
       "<Figure size 600x400 with 1 Axes>"
      ]
     },
     "metadata": {},
     "output_type": "display_data"
    },
    {
     "data": {
      "image/png": "[encoded data removed]",
      "text/plain": [
       "<Figure size 600x400 with 1 Axes>"
      ]
     },
     "metadata": {},
     "output_type": "display_data"
    }
   ],
   "source": [
    "# Let's visualize retention rate for day 1\n",
    "plt.figure(figsize=(6,4))\n",
    "tbl = sns.barplot(x=retention_1_rate.index, y=retention_1_rate.values)\n",
    "plt.title('Day 1 Retention Rate by Version (A/B)')\n",
    "plt.xlabel('Version')\n",
    "plt.ylabel('Retention Rate')\n",
    "plt.bar_label(container = tbl.containers[0], labels = [f'{r1:.2f}' for r1 in retention_1_rate.values])\n",
    "plt.show()\n",
    "\n",
    "# Let's visualize retention rate for day 7\n",
    "plt.figure(figsize=(6,4))\n",
    "tbl1 = sns.barplot(x=retention_7_rate.index, y=retention_7_rate.values)\n",
    "plt.title('Day 7 Retention Rate by Version (A/B)')\n",
    "plt.xlabel('Version')\n",
    "plt.ylabel('Retention Rate')\n",
    "plt.bar_label(container = tbl1.containers[0], labels = [f'{r1:.2f}' for r1 in retention_7_rate.values])\n",
    "plt.show()"
   ]
  },
  {
   "cell_type": "markdown",
   "id": "55119de6",
   "metadata": {
    "papermill": {
     "duration": 0.004528,
     "end_time": "2024-09-16T13:39:10.057261",
     "exception": false,
     "start_time": "2024-09-16T13:39:10.052733",
     "status": "completed"
    },
    "tags": []
   },
   "source": [
    "# What is T-Test ?\n",
    "\n",
    "**T-statistic:** The t-statistic tells us how different the two groups (A and B) are in terms of retention. The larger the t-statistic, the greater the difference.\n",
    "\n",
    "**P-value:** The p-value helps us determine whether the difference between the two groups is statistically significant.\n",
    "\n",
    "- If p-value < 0.05, the difference is considered statistically significant, meaning the test version likely had an impact on retention.\n",
    "- If p-value >= 0.05, the difference is not statistically significant, meaning the variation might not have made a meaningful impact."
   ]
  },
  {
   "cell_type": "code",
   "execution_count": 6,
   "id": "09c84050",
   "metadata": {
    "execution": {
     "iopub.execute_input": "2024-09-16T13:39:10.068507Z",
     "iopub.status.busy": "2024-09-16T13:39:10.067817Z",
     "iopub.status.idle": "2024-09-16T13:39:10.132793Z",
     "shell.execute_reply": "2024-09-16T13:39:10.131745Z"
    },
    "papermill": {
     "duration": 0.07307,
     "end_time": "2024-09-16T13:39:10.135024",
     "exception": false,
     "start_time": "2024-09-16T13:39:10.061954",
     "status": "completed"
    },
    "tags": []
   },
   "outputs": [
    {
     "name": "stdout",
     "output_type": "stream",
     "text": [
      "Day 1 Retention - T-statistic: 1.7840979256519656, P-value: 0.07441111525563184\n",
      "Day 7 Retention - T-statistic: 3.1644994996802778, P-value: 0.0015540151201088365\n"
     ]
    }
   ],
   "source": [
    "from scipy import stats\n",
    "\n",
    "# Let's perform a T-Test for Day 1 Retention\n",
    "# Let's split the data into two groups: A (control) and B (test)\n",
    "df['retention_1'] = df['retention_1'].astype(int)\n",
    "df['retention_7'] = df['retention_7'].astype(int)\n",
    "\n",
    "group_a_day1 = df[df['version'] == 'gate_30']['retention_1']\n",
    "group_b_day1 = df[df['version'] == 'gate_40']['retention_1']\n",
    "\n",
    "# Let's perform an independent t-test for Day 1 retention\n",
    "\n",
    "t_stat_day1, p_value_day1 = stats.ttest_ind(group_a_day1, group_b_day1)\n",
    "\n",
    "print(f'Day 1 Retention - T-statistic: {t_stat_day1}, P-value: {p_value_day1}')\n",
    "\n",
    "# Let's perform a T-Test for Day 7 Retention\n",
    "\n",
    "group_a_day7 = df[df['version'] == 'gate_30']['retention_7']\n",
    "group_b_day7 = df[df['version'] == 'gate_40']['retention_7']\n",
    "\n",
    "# Let's perform an independent t-test for Day 7 retention\n",
    "\n",
    "t_stat_day7, p_value_day7 = stats.ttest_ind(group_a_day7, group_b_day7)\n",
    "\n",
    "print(f'Day 7 Retention - T-statistic: {t_stat_day7}, P-value: {p_value_day7}')"
   ]
  },
  {
   "cell_type": "markdown",
   "id": "93bd6b52",
   "metadata": {
    "papermill": {
     "duration": 0.004651,
     "end_time": "2024-09-16T13:39:10.144565",
     "exception": false,
     "start_time": "2024-09-16T13:39:10.139914",
     "status": "completed"
    },
    "tags": []
   },
   "source": [
    "## Let's summarizes our findings\n",
    "\n",
    "1. **Day 1 Retention:**\n",
    "   - T-statistic: 1.784\n",
    "   - P-value: 0.0744\n",
    "   \n",
    "- *The p-value of 0.0744 is greater than 0.05, which means the difference in Day 1 retention between the control group and the test group is not statistically significant.*\n",
    "- *Although the test group showed a slightly higher retention rate on day 1 (as indicated by the positive t-statistic), the difference could be due to random variation, and we cannot confidently conclude that the test version improved retention after one day.*\n",
    "\n",
    "2. **Day 7 Retention:**\n",
    "   - T-statistic: 3.164\n",
    "   - P-value: 0.00155\n",
    "- *The p-value of 0.00155 is much lower than 0.05, indicating a statistically significant difference in Day 7 retention between the control and test groups.*\n",
    "- *The positive t-statistic suggests that the test group (version B) had a significantly higher retention rate on day 7 compared to the control group. This means the variation introduced in the test version appears to have had a positive effect on long-term retention.*\n",
    "\n",
    "## Business Recommendations \n",
    "\n",
    "- *Since Day 7 retention showed a statistically significant improvement in the test group, it suggests that the changes introduced in version B had a positive impact on keeping players engaged over the long term.*\n",
    "\n",
    "- *Although the Day 1 retention difference wasn't statistically significant, the increase in Day 7 retention is a strong indicator that the test version can be rolled out more widely.*\n",
    "\n",
    "- *It might be beneficial to continue monitoring the Day 1 retention and explore other optimizations for short-term engagement, but the results indicate that version B is more effective at retaining users over a week.*"
   ]
  }
 ],
 "metadata": {
  "kaggle": {
   "accelerator": "none",
   "dataSources": [
    {
     "datasetId": 272421,
     "sourceId": 564457,
     "sourceType": "datasetVersion"
    }
   ],
   "dockerImageVersionId": 30761,
   "isGpuEnabled": false,
   "isInternetEnabled": true,
   "language": "python",
   "sourceType": "notebook"
  },
  "kernelspec": {
   "display_name": "Python 3",
   "language": "python",
   "name": "python3"
  },
  "language_info": {
   "codemirror_mode": {
    "name": "ipython",
    "version": 3
   },
   "file_extension": ".py",
   "mimetype": "text/x-python",
   "name": "python",
   "nbconvert_exporter": "python",
   "pygments_lexer": "ipython3",
   "version": "3.10.14"
  },
  "papermill": {
   "default_parameters": {},
   "duration": 6.083951,
   "end_time": "2024-09-16T13:39:10.669058",
   "environment_variables": {},
   "exception": null,
   "input_path": "__notebook__.ipynb",
   "output_path": "__notebook__.ipynb",
   "parameters": {},
   "start_time": "2024-09-16T13:39:04.585107",
   "version": "2.6.0"
  }
 },
 "nbformat": 4,
 "nbformat_minor": 5
}
